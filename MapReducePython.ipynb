{
 "metadata": {
  "name": "",
  "signature": "sha256:7697fc7b97d2c63113c90a12712a3700192455208008e33520deb848d5c516a5"
 },
 "nbformat": 3,
 "nbformat_minor": 0,
 "worksheets": [
  {
   "cells": [
    {
     "cell_type": "markdown",
     "metadata": {},
     "source": [
      "<br>\n",
      "<img src=\"./WhatIsMapReduce.PNG\" width=\"400\" height=\"500\" align=\"center\"/>\n",
      "\n",
      "<br>\n",
      "<center><font size=5>Explain <strong><i>MapReduce</i></strong> Algorithm with <code>map</code> and <code>reduce</code> functions in <i>Python</i></font><br> Chuan Zhang, Oct. 2014</center>\n",
      "\n",
      "<ht />\n",
      "<font size=3>\n",
      "<p>This very short notebook uses <code>map</code> function and <code>reduce</code> function to demonstrate how <i>MapReduce</i> works.</p>\n",
      "<br>\n",
      "\n",
      "<li> Usage of the <code>map</code> function: <code>map(function, sequence[, sequence, ...]) -> list</code></li>\n",
      "\n",
      "The function <code>map</code> applies the <code>function</code> (usually an <strong><i>anonymous function</i></strong> <code>lambda</code> is used), to every element of a <strong><i>sequence</i></strong> (it can be a list, a string, or other objects). This is very similar to the <i>mapper</i> in terms of the <i>MapReduce</i> algorithm. The only difference is that while the function <code>map</code> returns a <code>list</code>, the <i>mapper</i> in <i>MapReduce</i> algorithm hashes the input data, and apply a function to every element of this (large, even huge) dataset, and return a sequence of (<strong><i>key</i></strong>, <strong><i>value</i></strong>) pairs.\n",
      "</font>"
     ]
    },
    {
     "cell_type": "code",
     "collapsed": false,
     "input": [
      "import numpy as np\n",
      "import pandas as pd\n",
      "\n",
      "x = pd.Series(data=np.random.randn(5))\n",
      "y = map(lambda x: 1/(1 + np.exp(-x)), x)\n",
      "print \"(x,y) =\", zip(x,y)"
     ],
     "language": "python",
     "metadata": {},
     "outputs": [
      {
       "output_type": "stream",
       "stream": "stdout",
       "text": [
        "(x,y) = [(0.01770568937389818, 0.50442630670997479), (2.9527717514047072, 0.95039432577754834), (1.5181280690871088, 0.82026266383508295), (0.16639451015847595, 0.54150291364075176), (-0.9793769445804078, 0.27301542896484188)]\n"
       ]
      }
     ],
     "prompt_number": 4
    },
    {
     "cell_type": "code",
     "collapsed": false,
     "input": [
      "x = \"MapReduce Algorithm is cool!\"\n",
      "y = map(ord, x)\n",
      "print \"(x,y) =\", zip(x,y)"
     ],
     "language": "python",
     "metadata": {},
     "outputs": [
      {
       "output_type": "stream",
       "stream": "stdout",
       "text": [
        " (x,y) = [('M', 77), ('a', 97), ('p', 112), ('R', 82), ('e', 101), ('d', 100), ('u', 117), ('c', 99), ('e', 101), (' ', 32), ('A', 65), ('l', 108), ('g', 103), ('o', 111), ('r', 114), ('i', 105), ('t', 116), ('h', 104), ('m', 109), (' ', 32), ('i', 105), ('s', 115), (' ', 32), ('c', 99), ('o', 111), ('o', 111), ('l', 108), ('!', 33)]\n"
       ]
      }
     ],
     "prompt_number": 10
    },
    {
     "cell_type": "code",
     "collapsed": false,
     "input": [
      "x = pd.Series(data=np.random.randn(10))\n",
      "x.map(lambda x: np.nan if x<0 else x)"
     ],
     "language": "python",
     "metadata": {},
     "outputs": [
      {
       "metadata": {},
       "output_type": "pyout",
       "prompt_number": 16,
       "text": [
        "0         NaN\n",
        "1         NaN\n",
        "2    0.454284\n",
        "3    0.070775\n",
        "4    0.662418\n",
        "5         NaN\n",
        "6         NaN\n",
        "7    1.110815\n",
        "8    0.345179\n",
        "9    2.063170\n",
        "dtype: float64"
       ]
      }
     ],
     "prompt_number": 16
    },
    {
     "cell_type": "markdown",
     "metadata": {},
     "source": [
      "<font size=3><li>Usage of the <code>reduce</code> function: <code>reduce(function, sequence[, initial]) -> value</code></li>\n",
      "<p>The function <code>reduce</code> cumulatively applies the <code>function</code> (also usually an <strong><i>anonymous function</i></strong> <code>lambda</code> is used) to the items of a <strong><i>sequence</i></strong> (it again can be a list, a string, or other objects), and the <code>function</code> takes two arguments as the input. This is very similar to the <i>reducer</i> in <i>MapReduce</i> algorithm.</p></font>"
     ]
    },
    {
     "cell_type": "code",
     "collapsed": false,
     "input": [
      "x = [1, 2, 3, 4, 5]\n",
      "y = reduce(lambda x, y: x+y, x)\n",
      "print x, y"
     ],
     "language": "python",
     "metadata": {},
     "outputs": [
      {
       "output_type": "stream",
       "stream": "stdout",
       "text": [
        "[1, 2, 3, 4, 5] 15\n"
       ]
      }
     ],
     "prompt_number": 21
    }
   ],
   "metadata": {}
  }
 ]
}